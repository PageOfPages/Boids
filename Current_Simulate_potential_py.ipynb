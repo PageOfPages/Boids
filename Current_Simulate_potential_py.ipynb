{
  "nbformat": 4,
  "nbformat_minor": 0,
  "metadata": {
    "colab": {
      "name": "Current_Simulate_potential.py",
      "provenance": [],
      "collapsed_sections": [],
      "include_colab_link": true
    },
    "kernelspec": {
      "name": "python3",
      "display_name": "Python 3"
    },
    "language_info": {
      "name": "python"
    }
  },
  "cells": [
    {
      "cell_type": "markdown",
      "metadata": {
        "id": "view-in-github",
        "colab_type": "text"
      },
      "source": [
        "<a href=\"https://colab.research.google.com/github/PageOfPages/Boids/blob/master/Current_Simulate_potential_py.ipynb\" target=\"_parent\"><img src=\"https://colab.research.google.com/assets/colab-badge.svg\" alt=\"Open In Colab\"/></a>"
      ]
    },
    {
      "cell_type": "code",
      "metadata": {
        "id": "7dmbjz1UFIny"
      },
      "source": [
        "from fractions import Fraction\n",
        "import math\n",
        "import random \n",
        "from collections import defaultdict\n",
        "import numpy as np\n",
        "from collections import namedtuple\n",
        "import matplotlib.pyplot as plt\n",
        "from matplotlib.ticker import MultipleLocator"
      ],
      "execution_count": null,
      "outputs": []
    },
    {
      "cell_type": "code",
      "metadata": {
        "id": "v8zQkDIJqeZN"
      },
      "source": [
        "evolution = []\n",
        "neighbors = []\n",
        "precision = 0.000001"
      ],
      "execution_count": null,
      "outputs": []
    },
    {
      "cell_type": "code",
      "metadata": {
        "id": "TWQaqKx9FWXu"
      },
      "source": [
        "def neighborhood(config):\n",
        "    \"\"\"\n",
        "    Args:\n",
        "        config (dict): point-index -> position fraction\n",
        "    Returns:\n",
        "        ((dict) point-index: slice(leftend, rightend) of point-indexes \n",
        "        of current neighbors\n",
        "    \"\"\"\n",
        "    points = sorted(config.keys()) # assumed to be 0,1,2,...,n-1 in sequence\n",
        "    n = len(points)\n",
        "    result = defaultdict(tuple)\n",
        "    for pt in points:\n",
        "        left_end = pt\n",
        "        for i in reversed(range(0, pt)):\n",
        "            if config[pt] - config[i] <= 1:\n",
        "                left_end = i\n",
        "            else:\n",
        "                break\n",
        "        right_end = pt+1\n",
        "        while right_end < n:\n",
        "            if config[right_end] - config[pt] <= 1:\n",
        "                right_end += 1\n",
        "            else:\n",
        "                break\n",
        "        result[pt] = slice(left_end, right_end)\n",
        "    return result"
      ],
      "execution_count": null,
      "outputs": []
    },
    {
      "cell_type": "code",
      "metadata": {
        "id": "KEwi7E0VFZx9"
      },
      "source": [
        "def hk_next_config(config):\n",
        "    \"\"\"Returns the next configuration\n",
        "    Args:\n",
        "        config (dict): point-index -> position fraction\n",
        "    \"\"\"\n",
        "    n = len(config)\n",
        "    pos_lst = [config[i] for i in range(n)]\n",
        "    curr_neigh = neighborhood(config)\n",
        "    next_config = defaultdict(Fraction)\n",
        "    for pt in config:\n",
        "        left_end, right_end = curr_neigh[pt].start, curr_neigh[pt].stop\n",
        "        next_config[pt] = sum(pos_lst[left_end:right_end])/(right_end - left_end)\n",
        "    return next_config"
      ],
      "execution_count": null,
      "outputs": []
    },
    {
      "cell_type": "code",
      "metadata": {
        "id": "0AG__IpmFgq7"
      },
      "source": [
        "def isclose(config1, config2):\n",
        "    \"\"\"Checks if config1 and config2 are close enough to be deemed equal\n",
        "    Args:\n",
        "        config1, config2 (dict): successive HK dynamics configurations\n",
        "    \"\"\"\n",
        "    return all ([math.isclose(config1[pt], config2[pt]) for pt in config1])"
      ],
      "execution_count": null,
      "outputs": []
    },
    {
      "cell_type": "code",
      "metadata": {
        "id": "WABEHkBuFkQi"
      },
      "source": [
        "def dumbbellHK(n):\n",
        "    \"\"\"Creates a dumbbell \n",
        "    The \"bar\" has n+1 >= 3 equally spaced points at 0, 1, ..., n \n",
        "    while the \"bells\" at each end have n points at distance 1/n \n",
        "    from the ends\n",
        "    Args:\n",
        "        n (int): n >= 2\n",
        "    Returns:\n",
        "        dictionary of point-indices and corresponding position fractions\n",
        "    \"\"\"\n",
        "    d = defaultdict(Fraction)\n",
        "    for pt in range(0, n):\n",
        "        d[pt] = Fraction(-1, n)\n",
        "    for pt in range(n, (2*n+1)+1):\n",
        "        d[pt] = Fraction(pt -((n-1)+1), 1)\n",
        "    for pt in range(2*n+1, 3*n+1):\n",
        "        d[pt] = Fraction(n*n + 1, n)\n",
        "    return d"
      ],
      "execution_count": null,
      "outputs": []
    },
    {
      "cell_type": "code",
      "metadata": {
        "id": "-ZnpT21EFnJY"
      },
      "source": [
        "def uniformHK(n):\n",
        "    \"\"\"\n",
        "    Args:\n",
        "        n number of agents\n",
        "    Returns:\n",
        "        ((dict) point-index: point-indexes \n",
        "        of a uniform initial configuration \n",
        "    \"\"\"\n",
        "    return dict([(i, Fraction(i)) for i in range(n)])"
      ],
      "execution_count": null,
      "outputs": []
    },
    {
      "cell_type": "code",
      "metadata": {
        "id": "ON9pmerUFp1a"
      },
      "source": [
        "def clusterHK(n, incrementTop, incrementBottom, group_size): \n",
        "    \"\"\"\n",
        "    Args:\n",
        "        ???\n",
        "    Returns:\n",
        "        ???\n",
        "    \"\"\"\n",
        "    steps = uniformHK(n)\n",
        "    for i in range(0,group_size):\n",
        "        steps[i+1]+=Fraction(incrementTop).limit_denominator()\n",
        "        steps[n-i]+=Fraction(incrementBottom).limit_denominator()\n",
        "    return steps  "
      ],
      "execution_count": 183,
      "outputs": []
    },
    {
      "cell_type": "code",
      "metadata": {
        "id": "EQl_oos-FuZ0"
      },
      "source": [
        "#Need to fix for 0-(n-1) and we need DOCUMENTATION!!\n",
        "def exponentialHK(n, alpha): \n",
        "    \"\"\"\n",
        "    Args:\n",
        "        n number of agents\n",
        "    Returns:\n",
        "        ((dict) point-index: point-indexes \n",
        "        of an exponential initial configuration\n",
        "    \"\"\"\n",
        "    steps = uniformHK(n)\n",
        "    mid = math.ceil(n/2) - 1\n",
        "    for i in range(0,mid):\n",
        "        steps[mid-i-1] = Fraction(steps[mid-i] - alpha**(i)).limit_denominator()\n",
        "        steps[mid+i+1] = Fraction(steps[mid+i] + alpha**(i)).limit_denominator()\n",
        "    return steps"
      ],
      "execution_count": 184,
      "outputs": []
    },
    {
      "cell_type": "code",
      "metadata": {
        "id": "ojq7LTJTFygV"
      },
      "source": [
        "def randomHK(n):\n",
        "    \"\"\"\n",
        "    Args:\n",
        "        n number of agents\n",
        "    Returns:\n",
        "        ((dict) point-index: point-indexes \n",
        "        of a random initial configuration\n",
        "    \"\"\"\n",
        "    return dict(zip(range(n), sorted(random.uniform(0,n) for i in range(n))))"
      ],
      "execution_count": null,
      "outputs": []
    },
    {
      "cell_type": "code",
      "metadata": {
        "id": "vFyIpqIHF1FC"
      },
      "source": [
        "def hk_potential(config):\n",
        "    '''Calculates Potential of system\n",
        "    Args: current system of agents\n",
        "    Returns: sum of potential in current system\n",
        "    !!! TIME COMPLEXITY TOO BIG !!!\n",
        "    '''\n",
        "    curr_neigh = neighborhood(config) #dict of pts and each pt's endpoints stored in a slice\n",
        "    potential = 0\n",
        "    for pt in config: #looking at the value of each point in config, ex. agent 1 at step one is 1.5\n",
        "      left_end, right_end = curr_neigh[pt].start, curr_neigh[pt].stop\n",
        "      sqr_dist_sum = 0\n",
        "      for c in range(left_end, right_end-1):\n",
        "        for d in range(c+1, right_end):\n",
        "          sqr_dist_sum += ((config[c] - config[d]))**2\n",
        "      potential += sqr_dist_sum/(right_end-left_end)\n",
        "              \n",
        "    return potential"
      ],
      "execution_count": 182,
      "outputs": []
    },
    {
      "cell_type": "code",
      "metadata": {
        "id": "VGI_iguVF5U0",
        "colab": {
          "base_uri": "https://localhost:8080/",
          "height": 301
        },
        "outputId": "d095d242-0a40-426d-bf05-50b4ee2c8cd1"
      },
      "source": [
        "def simulate_potential(init_system):\n",
        "    \"\"\"Determine HK dynamics of system\n",
        "    Args:\n",
        "        init_system (dict): initial configuration of agents\n",
        "    \"\"\"\n",
        "    step = 0\n",
        "    p_evol = [] #record potential on initial system\n",
        "    evolution = defaultdict(dict)\n",
        "    evolution[step] = init_system\n",
        "    while True: # update the system\n",
        "        step += 1\n",
        "        evolution[step] = hk_next_config(evolution[step-1])\n",
        "        ptl = hk_potential(evolution[step-1])\n",
        "        p_evol.append(ptl)\n",
        "        if isclose(evolution[step], evolution[step-1]):\n",
        "            break\n",
        "\n",
        "    fig, ax = plt.subplots()\n",
        "    ax.set_title('Hegselmann Krause Potenetial: System')\n",
        "    ax.set_xlabel('Time')\n",
        "    ax.set_ylabel('Potential')\n",
        "    if (step >= 10):\n",
        "      majorLocator = MultipleLocator(int(step/10))\n",
        "    else:\n",
        "      majorLocator = MultipleLocator(1)\n",
        "    ax.xaxis.set_major_locator(majorLocator)\n",
        "    plt.xticks(rotation=-45)\n",
        "    stages = list(range(len(p_evol)))\n",
        "    plt.plot(p_evol)\n",
        "    plt.grid(axis='x', alpha=0.5) \n",
        "\n",
        "# simulate_potential(exponentialHK(11,0.99))\n",
        "# simulate_potential(dumbbellHK(11))\n",
        "simulate_potential(uniformHK(11))"
      ],
      "execution_count": 187,
      "outputs": [
        {
          "output_type": "display_data",
          "data": {
            "image/png": "[encoded data removed]",
            "text/plain": [
              "<Figure size 432x288 with 1 Axes>"
            ]
          },
          "metadata": {
            "tags": [],
            "needs_background": "light"
          }
        }
      ]
    },
    {
      "cell_type": "code",
      "metadata": {
        "colab": {
          "base_uri": "https://localhost:8080/",
          "height": 301
        },
        "id": "fw1y2iCkAOIr",
        "outputId": "c5d25053-72b2-4a7b-cf30-320c4b22125a"
      },
      "source": [
        "def compare_potentials(n,alpha):\n",
        "    \"\"\"Determine HK dynamics of system\n",
        "    Args:\n",
        "        init_system (dict): initial configuration of agents\n",
        "    \"\"\"\n",
        "    \n",
        "    # systems = [uniformHK(n), exponentialHK(n,alpha), dumbbellHK(n)]\n",
        "    systems = [uniformHK(n), exponentialHK(n,alpha)]\n",
        "    potentials = []\n",
        "    \n",
        "    for init_system in systems:\n",
        "      step = 0\n",
        "      p_evol = [] #record potential on initial system\n",
        "      evolution = defaultdict(dict)\n",
        "      evolution[step] = init_system\n",
        "      while True: # update the system\n",
        "          step += 1\n",
        "          evolution[step] = hk_next_config(evolution[step-1])\n",
        "          ptl = hk_potential(evolution[step-1])\n",
        "          p_evol.append(ptl)\n",
        "          if isclose(evolution[step], evolution[step-1]):\n",
        "              break\n",
        "      potentials.append(p_evol)\n",
        "\n",
        "    fig, ax = plt.subplots()\n",
        "    ax.set_title('Hegselmann Krause Potenetials')\n",
        "    ax.set_xlabel('Time')\n",
        "    ax.set_ylabel('Potential')\n",
        "    if (step >= 10):\n",
        "      majorLocator = MultipleLocator(int(step/10))\n",
        "    else:\n",
        "      majorLocator = MultipleLocator(1)\n",
        "    ax.xaxis.set_major_locator(majorLocator)\n",
        "    plt.xticks(rotation=-45)\n",
        "    \n",
        "    x = potentials[0] \n",
        "    ax.plot(x, label=\"Uniform\")\n",
        "    y = potentials[1] \n",
        "    ax.plot(y, label=\"Exponential\")\n",
        "    # z = potentials[2] \n",
        "    # ax.plot(z, label=\"Dumbbell\")\n",
        "\n",
        "    plt.legend(bbox_to_anchor=(1.05, 1), loc='upper left', borderaxespad=0.)\n",
        "    plt.grid(axis='x', alpha=0.5) \n",
        "\n",
        "compare_potentials(100,.99)"
      ],
      "execution_count": 188,
      "outputs": [
        {
          "output_type": "display_data",
          "data": {
            "image/png": "[encoded data removed]",
            "text/plain": [
              "<Figure size 432x288 with 1 Axes>"
            ]
          },
          "metadata": {
            "tags": [],
            "needs_background": "light"
          }
        }
      ]
    }
  ]
}